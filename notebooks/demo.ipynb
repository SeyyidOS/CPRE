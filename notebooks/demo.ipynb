{
 "cells": [
  {
   "cell_type": "markdown",
   "metadata": {},
   "source": [
    "# <center>Chess Puzzle Rating Estimation</center>"
   ]
  },
  {
   "cell_type": "markdown",
   "metadata": {},
   "source": [
    "## Dataset"
   ]
  },
  {
   "cell_type": "markdown",
   "metadata": {},
   "source": [
    "### Descriptions"
   ]
  },
  {
   "cell_type": "markdown",
   "metadata": {},
   "source": [
    "| **Field Name** | **Field Description** | **Field Type** | **Example Value** |\n",
    "|----------------|-----------------------|----------------|-------------------|\n",
    "| PuzzleId       | Unique puzzle ID       | string         | 00sHx             |\n",
    "| FEN            | Board position in standard notation | string         | `q3k1nr/1pp1nQpp/3p4/1P2p3/4P3/B1PP1b2/B5PP/5K2 b k - 0 17` |\n",
    "| Moves          | Solution to the puzzle in PGN | string         | `e8d7 a2e6 d7d8 f7f8` |\n",
    "| Rating         | Puzzle rating          | int            | 1760              |\n",
    "| RatingDeviation    | Measure of uncertainty over difficulty | int            | 85                |\n",
    "| Popularity         | Difference between upvotes and downvotes | int            | 10                |\n",
    "| NbPlays            | Number of attempts at solving the puzzle | int            | 350               |\n",
    "| Themes             | Puzzle themes                        | string         | mates in 2 moves  |\n",
    "| GameUrl            | Puzzle source link                   | string         | https://lichess.org/game1 |\n",
    "| OpeningTags        | Opening from which the puzzle originated | string         | Sicilian Defense  |"
   ]
  },
  {
   "cell_type": "markdown",
   "metadata": {},
   "source": [
    "### FEN explained"
   ]
  },
  {
   "cell_type": "markdown",
   "metadata": {},
   "source": [
    "The FEN (Forsyth-Edwards Notation) is a standard notation for describing the position of pieces on a chessboard. Each FEN string consists of six space-separated fields that fully describe the current game state.\n",
    "\n",
    "#### FEN Format:\n",
    "rnbqkbnr/pppppppp/8/8/8/8/PPPPPPPP/RNBQKBNR w KQkq - 0 1\n",
    "\n",
    "\n",
    "##### 1. Piece Placement (Field 1)\n",
    "This is the first section of the FEN string and describes the positions of all pieces on the board, starting from the 8th rank (black’s back rank) down to the 1st rank (white’s back rank).\n",
    "\n",
    "- **Letters** represent pieces:\n",
    "  - Uppercase for white pieces (`R` for rook, `N` for knight, `B` for bishop, `Q` for queen, `K` for king, `P` for pawn).\n",
    "  - Lowercase for black pieces (`r`, `n`, `b`, `q`, `k`, `p`).\n",
    "- **Numbers** represent empty squares:\n",
    "  - For example, `8` means the entire row is empty, while `3` means three empty squares.\n",
    "  \n",
    "Example:\n",
    "rnbqkbnr/pppppppp/8/8/8/8/PPPPPPPP/RNBQKBNR\n",
    "\n",
    "This represents the standard starting position of a chess game.\n",
    "\n",
    "##### 2. Active Color (Field 2)\n",
    "This indicates which player’s turn it is to move:\n",
    "- **`w`** for white to move.\n",
    "- **`b`** for black to move.\n",
    "\n",
    "Example:\n",
    "w\n",
    "\n",
    "It is white's turn to move.\n",
    "\n",
    "##### 3. Castling Availability (Field 3)\n",
    "This section shows which players still have the right to castle (kingside or queenside).\n",
    "- **`K`**: White can castle kingside.\n",
    "- **`Q`**: White can castle queenside.\n",
    "- **`k`**: Black can castle kingside.\n",
    "- **`q`**: Black can castle queenside.\n",
    "- **`-`**: Neither side can castle.\n",
    "\n",
    "Example:\n",
    "KQkq\n",
    "\n",
    "Both players can still castle kingside and queenside.\n",
    "\n",
    "##### 4. En Passant Target Square (Field 4)\n",
    "If the last move was a two-square pawn advance, this field will indicate the square where an en passant capture is possible. If no en passant capture is possible, this field will contain `-`.\n",
    "\n",
    "Example:\n",
    "e3\n",
    "\n",
    "White has just moved a pawn two squares forward, allowing black to capture en passant on e3.\n",
    "\n",
    "##### 5. Halfmove Clock (Field 5)\n",
    "This counts the number of halfmoves (ply) since the last capture or pawn move. This is used to track the 50-move rule, which can result in a draw if no pawn move or capture has been made in the last 50 moves.\n",
    "\n",
    "Example:\n",
    "0\n",
    "\n",
    "There has been a recent capture or pawn move.\n",
    "\n",
    "##### 6. Fullmove Number (Field 6)\n",
    "This indicates the number of full moves in the game. It starts at 1 and increments after each black move.\n",
    "\n",
    "Example:\n",
    "1\n",
    "\n",
    "This is the first move of the game.\n",
    "\n",
    "---\n",
    "\n",
    "##### Example FEN Breakdown:\n",
    "rnbqkbnr/pppppppp/8/8/8/8/PPPPPPPP/RNBQKBNR w KQkq - 0 1\n",
    "\n",
    "\n",
    "- **Piece Placement**: `rnbqkbnr/pppppppp/8/8/8/8/PPPPPPPP/RNBQKBNR` shows the pieces in their starting positions.\n",
    "- **Active Color**: `w` indicates it is white’s move.\n",
    "- **Castling Availability**: `KQkq` means both players can still castle both kingside and queenside.\n",
    "- **En Passant Target Square**: `-` means no en passant capture is possible.\n",
    "- **Halfmove Clock**: `0` indicates no moves have been made that would reset the clock (like pawn moves or captures).\n",
    "- **Fullmove Number**: `1` indicates it is the first move of the game.\n",
    "\n",
    "This structure fully encapsulates the current state of a chess game in a compact format.\n",
    "\n"
   ]
  },
  {
   "cell_type": "markdown",
   "metadata": {},
   "source": [
    "## Approach Overview"
   ]
  },
  {
   "cell_type": "markdown",
   "metadata": {},
   "source": [
    "### 1. **Flattening the Chess Board**\n",
    "\n",
    "This approach involves transforming the chess board's position, represented in FEN (Forsyth-Edwards Notation), into a flattened feature vector. Each square on the board is treated as an individual feature, and the following encoding is applied:\n",
    "- **Empty squares**: Represented by the value `0`.\n",
    "- **Occupied squares**: Represented by the ASCII code of the piece occupying the square. For example:\n",
    "  - `Q` (White Queen): ASCII code `81`.\n",
    "  - `q` (Black Queen): ASCII code `113`.\n",
    "\n",
    "By representing the chess board as a fixed-length vector, this method enables traditional machine learning algorithms to process the input efficiently. The simplicity of this approach makes it interpretable and computationally efficient.\n",
    "\n",
    "---\n",
    "\n",
    "### 2. **Feature Engineering with Graphs**\n",
    "\n",
    "This approach models the chess board as a graph, where:\n",
    "- **Nodes**: Represent individual pieces on the board.\n",
    "- **Edges**: Represent possible interactions or relationships between pieces, such as attack and defense patterns.\n",
    "\n",
    "Using this graph representation, advanced feature engineering techniques are applied to extract meaningful insights about piece dynamics and positional strength. A tree-based model (e.g., Gradient Boosting Machines, Random Forest) is then trained on these engineered features to predict the puzzle ratings. This approach emphasizes the relational and positional aspects of the game, which are often critical for understanding puzzle difficulty.\n",
    "\n",
    "---\n",
    "\n",
    "### 3. **CNN-GRU Modeling**\n",
    "\n",
    "This deep learning-based approach combines Convolutional Neural Networks (CNNs) and Gated Recurrent Units (GRUs) to leverage both spatial and temporal aspects of chess puzzles:\n",
    "- **CNNs**: Used for feature extraction from the chess board. The 2D structure of the board is treated as an image-like input, enabling the CNN to identify patterns such as piece configurations and interactions.\n",
    "- **GRUs**: Used to process the sequence of moves in the puzzle. GRUs capture temporal dependencies and sequential information inherent in move sequences.\n",
    "\n",
    "By integrating CNNs and GRUs, this method captures both the static board position and the dynamic sequence of moves, making it well-suited for complex puzzles.\n",
    "\n",
    "---\n"
   ]
  },
  {
   "cell_type": "markdown",
   "metadata": {},
   "source": []
  }
 ],
 "metadata": {
  "language_info": {
   "name": "python"
  }
 },
 "nbformat": 4,
 "nbformat_minor": 2
}
